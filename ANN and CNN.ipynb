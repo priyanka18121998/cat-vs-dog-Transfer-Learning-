{
 "cells": [
  {
   "cell_type": "markdown",
   "metadata": {},
   "source": [
    "# ANN : Image classifier"
   ]
  },
  {
   "cell_type": "code",
   "execution_count": null,
   "metadata": {},
   "outputs": [],
   "source": [
    "import numpy as np\n",
    "import pandas as pd\n",
    "import matplotlib.pyplot as mpl\n",
    "import matplotlib.pyplot as plt \n",
    "import tensorflow as tf\n",
    "from tensorflow import keras"
   ]
  },
  {
   "cell_type": "code",
   "execution_count": 3,
   "metadata": {
    "collapsed": true
   },
   "outputs": [
    {
     "name": "stdout",
     "output_type": "stream",
     "text": [
      "Downloading data from https://storage.googleapis.com/tensorflow/tf-keras-datasets/train-labels-idx1-ubyte.gz\n",
      "32768/29515 [=================================] - 0s 2us/step\n",
      "Downloading data from https://storage.googleapis.com/tensorflow/tf-keras-datasets/train-images-idx3-ubyte.gz\n",
      "26427392/26421880 [==============================] - 336s 13us/step\n",
      "Downloading data from https://storage.googleapis.com/tensorflow/tf-keras-datasets/t10k-labels-idx1-ubyte.gz\n",
      "8192/5148 [===============================================] - 0s 0us/step\n",
      "Downloading data from https://storage.googleapis.com/tensorflow/tf-keras-datasets/t10k-images-idx3-ubyte.gz\n",
      "4423680/4422102 [==============================] - 30s 7us/step\n",
      "[[  0   0   0   0   0   0   0   0   0   1   0   0  18 107 119 103   9   0\n",
      "    0   0   0   0   0   0   0   0   0   0]\n",
      " [  0   0   0   0   0   0   0   0   0   0   0  99 155 113  61 118 173 117\n",
      "    0   0   3   0   0   0   0   0   0   0]\n",
      " [  0   0   0   0   0   0   0   0   1   0 110 136   0   0   0   0   0 167\n",
      "  159   0   0   2   0   0   0   0   0   0]\n",
      " [  0   0   0   0   0   1   0   6   0  72 147   0   0   5   0   2   0   0\n",
      "  174 118   0   5   0   0   0   0   0   0]\n",
      " [  0   0   0   0   0   1   5   0   0 174   4   0   4   0   0   0   0   0\n",
      "    0 204  44   0   4   0   0   0   0   0]\n",
      " [  0   0   0   0   0   0   8   0 125 128   0   9   0   0   0   0   0   2\n",
      "    0 107 152   0   6   0   0   0   0   0]\n",
      " [  0   0   0   0   0   0   0   0 184   9   0   4   0   0   0   0   0   2\n",
      "    0   0 190   0   0   2   0   0   0   0]\n",
      " [  0   0   0   1   0   2   0  73 158   0   0   0   0   1   0   0   0   0\n",
      "    4   0 157  79   0   3   1   0   0   0]\n",
      " [  0   0   2   5   1   0   0 157  98   0   2   0   0   1   0   0   0   0\n",
      "    5   0 121 145   0   0   0   0   0   0]\n",
      " [  0   0   0   0   0   0   0 231  84   0   2   1   1   0   0   0   0   0\n",
      "    1   0  92 223  16   0   7   4   1   0]\n",
      " [  0   0   0   0   0   0  38 183  81   0   0   0   2   2   1   2   1   0\n",
      "    1   0 120 226  57   0   0   0   0   0]\n",
      " [  0   0 173 216 193 213 183 164 167  98  16   0   0   0   0   0   0   0\n",
      "    0   0 107 141 111  91  90 108  50   0]\n",
      " [  0   0 185 221 217 210 202 222 200 206 202 204 109  27  12  17  61 136\n",
      "  180 221 202 225 208 214 223 240 162   0]\n",
      " [  0   0 183 220 205 200 193 184 189 182 173 194 215 216 205 207 207 195\n",
      "  185 194 194 203 212 183 193 211 153   0]\n",
      " [  0   0 190 233 203 206 214 216 195 183 176 159 175 189 202 195 186 186\n",
      "  182 186 195 209 235 203 202 215 136   0]\n",
      " [  0   0 180 228 201 202 188 183 178 192 186 181 181 177 204 217 175 179\n",
      "  184 176 166 169 175 185 152 203 107   0]\n",
      " [  0   0 167 235 200 207 207 209 207 203 198 189 182 178 186 189 178 192\n",
      "  197 195 192 185 184 205 187 255  61   0]\n",
      " [  0   0 152 250 208 214 209 202 200 202 205 204 200 192 198 204 195 205\n",
      "  206 198 199 203 214 207 179 249  55   0]\n",
      " [  0   0 126 255 211 215 210 206 203 203 203 206 204 199 206 207 200 206\n",
      "  201 199 202 208 215 195 174 211  15   0]\n",
      " [  0   0 107 255 212 211 210 211 208 206 206 207 208 208 217 214 205 206\n",
      "  204 208 211 211 220 197 182 225   0   0]\n",
      " [  0   0  63 232 211 216 212 214 212 212 214 212 211 212 223 219 210 214\n",
      "  213 212 211 209 217 208 168 190   0   0]\n",
      " [  0   0  14 255 218 221 215 218 218 217 215 213 211 215 228 220 216 222\n",
      "  217 217 216 218 212 213 189 143   0   0]\n",
      " [  0   0   0 230 227 214 217 218 216 217 217 214 216 222 226 218 218 220\n",
      "  219 218 217 218 217 215 216 113   0   0]\n",
      " [  0   0   0 177 233 216 223 222 213 213 215 212 220 226 221 220 221 218\n",
      "  222 220 220 221 217 212 219  52   0   0]\n",
      " [  0   0   0  10 223 222 220 211 213 215 220 222 226 226 221 223 222 222\n",
      "  221 218 220 219 220 223 174   0   0   0]\n",
      " [  0   0   0   0 126 241 208 210 214 214 216 216 220 220 214 213 212 212\n",
      "  210 215 217 218 215 236  42   0   1   0]\n",
      " [  0   0   0   0   0 188 237 230 233 255 255 255 255 255 255 255 255 255\n",
      "  255 255 231 229 239 161   0   0   0   0]\n",
      " [  0   0   0   0   0   0  63  95 108 105 100 103 104 105 102 100  98  97\n",
      "   96  90  80  83  60   0   0   0   0   0]]\n",
      "2\n",
      "pullover\n"
     ]
    },
    {
     "data": {
      "text/plain": [
       "(60000, 28, 28)"
      ]
     },
     "execution_count": 3,
     "metadata": {},
     "output_type": "execute_result"
    },
    {
     "data": {
      "image/png": "[encoded data removed]",
      "text/plain": [
       "<Figure size 432x288 with 1 Axes>"
      ]
     },
     "metadata": {
      "needs_background": "light"
     },
     "output_type": "display_data"
    }
   ],
   "source": [
    "data = keras.datasets.fashion_mnist\n",
    "(x_train,y_train), (x_test,y_test) = data.load_data()\n",
    "print(x_train[100]) #each cloth pic is of form 28x28 pixels matrix, 0shows black color\n",
    "plt.imshow(x_train[51]) #the cloth\n",
    "print(y_train[5]) #the number reated to the cloth in th dataset\n",
    "classes=[\"tshirt\", \"trousers\", \"pullover\", \"dress\", \"coat\", \"sandal\",\n",
    "         \"shirt\", \"sneakers\", \"bag\", \"boot\"]\n",
    "print(classes[y_train[5]])\n",
    "x_train.shape"
   ]
  },
  {
   "cell_type": "code",
   "execution_count": 4,
   "metadata": {},
   "outputs": [
    {
     "data": {
      "text/plain": [
       "(60000,)"
      ]
     },
     "execution_count": 4,
     "metadata": {},
     "output_type": "execute_result"
    }
   ],
   "source": [
    "#input is converted to 0 to 1 range \n",
    "x_train_p=x_train / 255.\n",
    "x_test_p=x_test / 255.\n",
    "#print(x_train[0])\n",
    "\n",
    "#spliting of data into training and testing set \n",
    "#training set has 60000 data(validation set : 5000 and training set: 550000))\n",
    "#test set is of 100000 data\n",
    "x_valid,x_train_=x_train_p[:5000],x_train_p[5000:]\n",
    "y_valid,y_train_=y_train[:5000],y_train[5000:]\n",
    "x_test,y_test=x_test_p[:],y_test[:]\n",
    "y_train.shape\n"
   ]
  },
  {
   "cell_type": "code",
   "execution_count": 5,
   "metadata": {},
   "outputs": [],
   "source": [
    "#defining seed :  it is used to replicate the same result everytime when the same code is run in the future\n",
    "np.random.seed(42)\n",
    "tf.random.set_seed(42)\n"
   ]
  },
  {
   "cell_type": "code",
   "execution_count": 6,
   "metadata": {},
   "outputs": [
    {
     "name": "stdout",
     "output_type": "stream",
     "text": [
      "Model: \"sequential\"\n",
      "_________________________________________________________________\n",
      "Layer (type)                 Output Shape              Param #   \n",
      "=================================================================\n",
      "flatten (Flatten)            (None, 784)               0         \n",
      "_________________________________________________________________\n",
      "dense (Dense)                (None, 300)               235500    \n",
      "_________________________________________________________________\n",
      "dense_1 (Dense)              (None, 100)               30100     \n",
      "_________________________________________________________________\n",
      "dense_2 (Dense)              (None, 10)                1010      \n",
      "=================================================================\n",
      "Total params: 266,610\n",
      "Trainable params: 266,610\n",
      "Non-trainable params: 0\n",
      "_________________________________________________________________\n"
     ]
    }
   ],
   "source": [
    "#creating model \n",
    "model=keras.models.Sequential()\n",
    "model.add(keras.layers.Flatten(input_shape=[28,28])) #flaten is used so that input in no 2d mat nut 784 pixels\n",
    "model.add(keras.layers.Dense(300,activation=\"relu\"))\n",
    "model.add(keras.layers.Dense(100,activation=\"relu\"))\n",
    "model.add(keras.layers.Dense(10,activation=\"softmax\")) #as there are 10 classes\n",
    "model.summary()"
   ]
  },
  {
   "cell_type": "code",
   "execution_count": 81,
   "metadata": {},
   "outputs": [
    {
     "name": "stdout",
     "output_type": "stream",
     "text": [
      "Failed to import pydot. You must install pydot and graphviz for `pydotprint` to work.\n"
     ]
    }
   ],
   "source": [
    "import pydot  #its ans interface in pyhton to create, manipulate,and show the graphical view\n",
    "keras.utils.plot_model(model)\n"
   ]
  },
  {
   "cell_type": "code",
   "execution_count": 9,
   "metadata": {},
   "outputs": [
    {
     "data": {
      "text/plain": [
       "(100, 10)"
      ]
     },
     "execution_count": 9,
     "metadata": {},
     "output_type": "execute_result"
    }
   ],
   "source": [
    "weights,biases=model.layers[3].get_weights()\n",
    "\n",
    "weights.shape"
   ]
  },
  {
   "cell_type": "code",
   "execution_count": 10,
   "metadata": {},
   "outputs": [],
   "source": [
    "#before training and optimizing the data, defining the loss fn and other imp things\n",
    "model.compile(loss=\"sparse_categorical_crossentropy\",  #as o/p is in the form of label, if th o/p is in the form of prob. the sparse id deleted\n",
    "              optimizer=\"sgd\",\n",
    "              metrics=[\"accuracy\"])"
   ]
  },
  {
   "cell_type": "code",
   "execution_count": 11,
   "metadata": {},
   "outputs": [],
   "source": [
    "early_stopping=keras.callbacks.EarlyStopping(patience=5,restore_best_weights=True) #very important as avoid overfitting"
   ]
  },
  {
   "cell_type": "code",
   "execution_count": 12,
   "metadata": {},
   "outputs": [
    {
     "name": "stdout",
     "output_type": "stream",
     "text": [
      "Train on 55000 samples, validate on 5000 samples\n",
      "Epoch 1/30\n",
      "55000/55000 [==============================] - 10s 185us/sample - loss: 0.7226 - accuracy: 0.7641 - val_loss: 0.5073 - val_accuracy: 0.8320\n",
      "Epoch 2/30\n",
      "55000/55000 [==============================] - 7s 133us/sample - loss: 0.4844 - accuracy: 0.8323 - val_loss: 0.4538 - val_accuracy: 0.8488\n",
      "Epoch 3/30\n",
      "55000/55000 [==============================] - 8s 138us/sample - loss: 0.4414 - accuracy: 0.8463 - val_loss: 0.4377 - val_accuracy: 0.8506\n",
      "Epoch 4/30\n",
      "55000/55000 [==============================] - 8s 145us/sample - loss: 0.4130 - accuracy: 0.8548 - val_loss: 0.4153 - val_accuracy: 0.8562\n",
      "Epoch 5/30\n",
      "55000/55000 [==============================] - 7s 132us/sample - loss: 0.3927 - accuracy: 0.8617 - val_loss: 0.3815 - val_accuracy: 0.8638\n",
      "Epoch 6/30\n",
      "55000/55000 [==============================] - 7s 131us/sample - loss: 0.3769 - accuracy: 0.8667 - val_loss: 0.3723 - val_accuracy: 0.8678\n",
      "Epoch 7/30\n",
      "55000/55000 [==============================] - 7s 134us/sample - loss: 0.3625 - accuracy: 0.8727 - val_loss: 0.3699 - val_accuracy: 0.8702\n",
      "Epoch 8/30\n",
      "55000/55000 [==============================] - 7s 130us/sample - loss: 0.3516 - accuracy: 0.8745 - val_loss: 0.3660 - val_accuracy: 0.8702\n",
      "Epoch 9/30\n",
      "55000/55000 [==============================] - 7s 130us/sample - loss: 0.3419 - accuracy: 0.8773 - val_loss: 0.3437 - val_accuracy: 0.8792\n",
      "Epoch 10/30\n",
      "55000/55000 [==============================] - 7s 130us/sample - loss: 0.3324 - accuracy: 0.8811 - val_loss: 0.3514 - val_accuracy: 0.8766\n",
      "Epoch 11/30\n",
      "55000/55000 [==============================] - 7s 131us/sample - loss: 0.3240 - accuracy: 0.8840 - val_loss: 0.3367 - val_accuracy: 0.8810\n",
      "Epoch 12/30\n",
      "55000/55000 [==============================] - 7s 130us/sample - loss: 0.3160 - accuracy: 0.8872 - val_loss: 0.3319 - val_accuracy: 0.8834\n",
      "Epoch 13/30\n",
      "55000/55000 [==============================] - 7s 136us/sample - loss: 0.3073 - accuracy: 0.8905 - val_loss: 0.3319 - val_accuracy: 0.8828\n",
      "Epoch 14/30\n",
      "55000/55000 [==============================] - 8s 139us/sample - loss: 0.3017 - accuracy: 0.8922 - val_loss: 0.3240 - val_accuracy: 0.8856\n",
      "Epoch 15/30\n",
      "55000/55000 [==============================] - 7s 134us/sample - loss: 0.2953 - accuracy: 0.8937 - val_loss: 0.3170 - val_accuracy: 0.8892\n",
      "Epoch 16/30\n",
      "55000/55000 [==============================] - 7s 127us/sample - loss: 0.2899 - accuracy: 0.8963 - val_loss: 0.3246 - val_accuracy: 0.8886\n",
      "Epoch 17/30\n",
      "55000/55000 [==============================] - 7s 125us/sample - loss: 0.2834 - accuracy: 0.8991 - val_loss: 0.3166 - val_accuracy: 0.8916\n",
      "Epoch 18/30\n",
      "55000/55000 [==============================] - 7s 128us/sample - loss: 0.2782 - accuracy: 0.8999 - val_loss: 0.3102 - val_accuracy: 0.8898\n",
      "Epoch 19/30\n",
      "55000/55000 [==============================] - 7s 125us/sample - loss: 0.2730 - accuracy: 0.9022 - val_loss: 0.3179 - val_accuracy: 0.8844\n",
      "Epoch 20/30\n",
      "55000/55000 [==============================] - 7s 129us/sample - loss: 0.2680 - accuracy: 0.9039 - val_loss: 0.3206 - val_accuracy: 0.8850\n",
      "Epoch 21/30\n",
      "55000/55000 [==============================] - 7s 125us/sample - loss: 0.2634 - accuracy: 0.9046 - val_loss: 0.2998 - val_accuracy: 0.8950\n",
      "Epoch 22/30\n",
      "55000/55000 [==============================] - 7s 132us/sample - loss: 0.2577 - accuracy: 0.9070 - val_loss: 0.3100 - val_accuracy: 0.8884\n",
      "Epoch 23/30\n",
      "55000/55000 [==============================] - 7s 132us/sample - loss: 0.2539 - accuracy: 0.9089 - val_loss: 0.3000 - val_accuracy: 0.8914\n",
      "Epoch 24/30\n",
      "55000/55000 [==============================] - 7s 124us/sample - loss: 0.2492 - accuracy: 0.9104 - val_loss: 0.3105 - val_accuracy: 0.8838\n",
      "Epoch 25/30\n",
      "55000/55000 [==============================] - 7s 119us/sample - loss: 0.2453 - accuracy: 0.9127 - val_loss: 0.3077 - val_accuracy: 0.8900\n",
      "Epoch 26/30\n",
      "55000/55000 [==============================] - 7s 118us/sample - loss: 0.2408 - accuracy: 0.9141 - val_loss: 0.3252 - val_accuracy: 0.8822\n"
     ]
    }
   ],
   "source": [
    "#fit the data into the model, and training data\n",
    "model_history=model.fit(x_train_,y_train_,epochs=30,validation_data=(x_valid,y_valid),\n",
    "                        callbacks=[early_stopping])\n"
   ]
  },
  {
   "cell_type": "code",
   "execution_count": 13,
   "metadata": {},
   "outputs": [
    {
     "data": {
      "text/plain": [
       "{'batch_size': 32,\n",
       " 'epochs': 30,\n",
       " 'steps': 1719,\n",
       " 'samples': 55000,\n",
       " 'verbose': 0,\n",
       " 'do_validation': True,\n",
       " 'metrics': ['loss', 'accuracy', 'val_loss', 'val_accuracy']}"
      ]
     },
     "execution_count": 13,
     "metadata": {},
     "output_type": "execute_result"
    }
   ],
   "source": [
    "model_history.params"
   ]
  },
  {
   "cell_type": "code",
   "execution_count": 14,
   "metadata": {
    "collapsed": true
   },
   "outputs": [
    {
     "data": {
      "text/plain": [
       "{'loss': [0.7225696415641091,\n",
       "  0.48439070107286625,\n",
       "  0.44139317091161556,\n",
       "  0.41302711292396893,\n",
       "  0.39265404234365986,\n",
       "  0.37694750641042535,\n",
       "  0.36247804353887386,\n",
       "  0.3515613202398474,\n",
       "  0.3419376902103424,\n",
       "  0.3324260404933583,\n",
       "  0.32399311422217975,\n",
       "  0.3159532498879866,\n",
       "  0.3073068986047398,\n",
       "  0.30171284677548843,\n",
       "  0.295256695504622,\n",
       "  0.28986769248572264,\n",
       "  0.28338151187246496,\n",
       "  0.2782488758737391,\n",
       "  0.2729988081715324,\n",
       "  0.2679870995759964,\n",
       "  0.2633764246593822,\n",
       "  0.2576506985469298,\n",
       "  0.25387664009657773,\n",
       "  0.24917217266342856,\n",
       "  0.24531154932975768,\n",
       "  0.24076604256196454],\n",
       " 'accuracy': [0.7641091,\n",
       "  0.8322545,\n",
       "  0.8462727,\n",
       "  0.8547636,\n",
       "  0.8616727,\n",
       "  0.86667275,\n",
       "  0.8727273,\n",
       "  0.8745273,\n",
       "  0.87732726,\n",
       "  0.8810909,\n",
       "  0.8839818,\n",
       "  0.88716364,\n",
       "  0.89050907,\n",
       "  0.89216363,\n",
       "  0.8936727,\n",
       "  0.89625454,\n",
       "  0.89910907,\n",
       "  0.8998727,\n",
       "  0.90221816,\n",
       "  0.9038909,\n",
       "  0.9046364,\n",
       "  0.90703636,\n",
       "  0.9088909,\n",
       "  0.91041815,\n",
       "  0.9127455,\n",
       "  0.9141091],\n",
       " 'val_loss': [0.5073241458892822,\n",
       "  0.4538289173603058,\n",
       "  0.4376545749664307,\n",
       "  0.41528738610744476,\n",
       "  0.3815386726975441,\n",
       "  0.37226429178714754,\n",
       "  0.3699228702545166,\n",
       "  0.3659650864303112,\n",
       "  0.34370373165607454,\n",
       "  0.35139425544738767,\n",
       "  0.3367273935556412,\n",
       "  0.33188932662010195,\n",
       "  0.3318529365360737,\n",
       "  0.3239676291167736,\n",
       "  0.31701208604574205,\n",
       "  0.3245989878177643,\n",
       "  0.3166455364942551,\n",
       "  0.31017334294319154,\n",
       "  0.31785486310124395,\n",
       "  0.3206072485148907,\n",
       "  0.29976543400883676,\n",
       "  0.3099678421258926,\n",
       "  0.2999917875647545,\n",
       "  0.31051386363208294,\n",
       "  0.307746443220973,\n",
       "  0.3251535249829292],\n",
       " 'val_accuracy': [0.832,\n",
       "  0.8488,\n",
       "  0.8506,\n",
       "  0.8562,\n",
       "  0.8638,\n",
       "  0.8678,\n",
       "  0.8702,\n",
       "  0.8702,\n",
       "  0.8792,\n",
       "  0.8766,\n",
       "  0.881,\n",
       "  0.8834,\n",
       "  0.8828,\n",
       "  0.8856,\n",
       "  0.8892,\n",
       "  0.8886,\n",
       "  0.8916,\n",
       "  0.8898,\n",
       "  0.8844,\n",
       "  0.885,\n",
       "  0.895,\n",
       "  0.8884,\n",
       "  0.8914,\n",
       "  0.8838,\n",
       "  0.89,\n",
       "  0.8822]}"
      ]
     },
     "execution_count": 14,
     "metadata": {},
     "output_type": "execute_result"
    }
   ],
   "source": [
    "model_history.history"
   ]
  },
  {
   "cell_type": "code",
   "execution_count": 15,
   "metadata": {},
   "outputs": [
    {
     "data": {
      "image/png": "[encoded data removed]",
      "text/plain": [
       "<Figure size 576x360 with 1 Axes>"
      ]
     },
     "metadata": {
      "needs_background": "light"
     },
     "output_type": "display_data"
    }
   ],
   "source": [
    "import pandas as pd\n",
    "pd.DataFrame(model_history.history).plot(figsize=(8,5))\n",
    "plt.grid(True)\n",
    "plt.gca().set_ylim(0,1)\n",
    "plt.show()"
   ]
  },
  {
   "cell_type": "code",
   "execution_count": 20,
   "metadata": {},
   "outputs": [
    {
     "name": "stdout",
     "output_type": "stream",
     "text": [
      "10000/10000 [==============================] - 5s 499us/sample - loss: 0.3313 - accuracy: 0.8813\n"
     ]
    },
    {
     "data": {
      "text/plain": [
       "[0.33126015031337736, 0.8813]"
      ]
     },
     "execution_count": 20,
     "metadata": {},
     "output_type": "execute_result"
    }
   ],
   "source": [
    "model.evaluate(x_test,y_test)"
   ]
  },
  {
   "cell_type": "code",
   "execution_count": 21,
   "metadata": {},
   "outputs": [
    {
     "data": {
      "text/plain": [
       "array([[0.  , 0.  , 0.  , 0.  , 0.  , 0.02, 0.  , 0.02, 0.  , 0.96],\n",
       "       [0.  , 0.  , 0.99, 0.  , 0.01, 0.  , 0.  , 0.  , 0.  , 0.  ],\n",
       "       [0.  , 1.  , 0.  , 0.  , 0.  , 0.  , 0.  , 0.  , 0.  , 0.  ]],\n",
       "      dtype=float32)"
      ]
     },
     "execution_count": 21,
     "metadata": {},
     "output_type": "execute_result"
    }
   ],
   "source": [
    "x_new=x_test[:3] #3 data from test data set as unknow data to test or prediction of the model\n",
    "y_probablity=model.predict(x_new)\n",
    "y_probablity.round(2) #roundoff to 2 decimal places\n"
   ]
  },
  {
   "cell_type": "code",
   "execution_count": 22,
   "metadata": {},
   "outputs": [
    {
     "data": {
      "text/plain": [
       "array([9, 2, 1], dtype=int64)"
      ]
     },
     "execution_count": 22,
     "metadata": {},
     "output_type": "execute_result"
    }
   ],
   "source": [
    "y_probablity=model.predict_classes(x_new)\n",
    "y_probablity"
   ]
  },
  {
   "cell_type": "code",
   "execution_count": 23,
   "metadata": {},
   "outputs": [
    {
     "name": "stdout",
     "output_type": "stream",
     "text": [
      "['boot' 'pullover' 'trousers']\n",
      "AxesImage(54,36;334.8x217.44)\n",
      "AxesImage(54,36;334.8x217.44)\n",
      "AxesImage(54,36;334.8x217.44)\n"
     ]
    },
    {
     "data": {
      "image/png": "[encoded data removed]",
      "text/plain": [
       "<Figure size 432x288 with 1 Axes>"
      ]
     },
     "metadata": {
      "needs_background": "light"
     },
     "output_type": "display_data"
    }
   ],
   "source": [
    "output=np.array(classes)[y_probablity]\n",
    "print(output)\n",
    "print(plt.imshow(x_new[0]))\n",
    "print(plt.imshow(x_new[1]))\n",
    "print(plt.imshow(x_new[2]))"
   ]
  },
  {
   "cell_type": "markdown",
   "metadata": {},
   "source": [
    "# CNN :Image Classifier"
   ]
  },
  {
   "cell_type": "code",
   "execution_count": 24,
   "metadata": {},
   "outputs": [],
   "source": [
    "import numpy as np\n",
    "import pandas as pd\n",
    "import matplotlib as mpl\n",
    "import matplotlib.pyplot as plt"
   ]
  },
  {
   "cell_type": "code",
   "execution_count": 25,
   "metadata": {},
   "outputs": [],
   "source": [
    "import tensorflow as tf\n",
    "from tensorflow import keras"
   ]
  },
  {
   "cell_type": "code",
   "execution_count": 26,
   "metadata": {},
   "outputs": [],
   "source": [
    "classes=[\"tshirt\", \"trousers\", \"pullover\", \"dress\", \"coat\", \"sandal\",\n",
    "         \"shirt\", \"sneakers\", \"bag\", \"boot\"]"
   ]
  },
  {
   "cell_type": "code",
   "execution_count": 40,
   "metadata": {},
   "outputs": [],
   "source": [
    "#data reshaping, to make the image 3D to have channels of(RGB)\n",
    "x_train=x_train.reshape((60000,28,28,1))\n",
    "x_test=x_test.reshape((10000,28,28,1))\n"
   ]
  },
  {
   "cell_type": "code",
   "execution_count": 41,
   "metadata": {},
   "outputs": [],
   "source": [
    "# Data noramlization\n",
    "x_train_n=x_train/255.\n",
    "\n"
   ]
  },
  {
   "cell_type": "code",
   "execution_count": 29,
   "metadata": {},
   "outputs": [],
   "source": [
    "#splitting training into training and validation dataset\n",
    "x_valid, x_train_=x_train_n[:5000],x_train_n[5000:]\n",
    "y_valid, y_train_=y_train[:5000],y_train[5000:]\n"
   ]
  },
  {
   "cell_type": "code",
   "execution_count": 30,
   "metadata": {},
   "outputs": [],
   "source": [
    "np.random.seed(42)\n",
    "tf.random.set_seed(42)"
   ]
  },
  {
   "cell_type": "code",
   "execution_count": 31,
   "metadata": {
    "collapsed": true
   },
   "outputs": [
    {
     "name": "stdout",
     "output_type": "stream",
     "text": [
      "Model: \"sequential_1\"\n",
      "_________________________________________________________________\n",
      "Layer (type)                 Output Shape              Param #   \n",
      "=================================================================\n",
      "conv2d (Conv2D)              (None, 26, 26, 32)        320       \n",
      "_________________________________________________________________\n",
      "max_pooling2d (MaxPooling2D) (None, 13, 13, 32)        0         \n",
      "_________________________________________________________________\n",
      "flatten_1 (Flatten)          (None, 5408)              0         \n",
      "_________________________________________________________________\n",
      "dense_3 (Dense)              (None, 300)               1622700   \n",
      "_________________________________________________________________\n",
      "dense_4 (Dense)              (None, 100)               30100     \n",
      "_________________________________________________________________\n",
      "dense_5 (Dense)              (None, 10)                1010      \n",
      "=================================================================\n",
      "Total params: 1,654,130\n",
      "Trainable params: 1,654,130\n",
      "Non-trainable params: 0\n",
      "_________________________________________________________________\n"
     ]
    }
   ],
   "source": [
    "#model architecture\n",
    "\n",
    "model=keras.models.Sequential()\n",
    "model.add(keras.layers.Conv2D(filters=32, kernel_size=(3,3), strides=1,    #3x3 window/filter size\n",
    "                              padding=\"valid\", activation=\"relu\", input_shape=(28,28,1))) #1 is for vhannel in input_shape\n",
    "model.add(keras.layers.MaxPool2D(2,2)) #dimension of window or receptive field is 2x2\n",
    "model.add(keras.layers.Flatten())\n",
    "model.add(keras.layers.Dense(300,activation=\"relu\"))\n",
    "model.add(keras.layers.Dense(100,activation=\"relu\"))\n",
    "model.add(keras.layers.Dense(10,activation=\"softmax\"))\n",
    "model.summary()\n"
   ]
  },
  {
   "cell_type": "code",
   "execution_count": 32,
   "metadata": {},
   "outputs": [],
   "source": [
    "model.compile(loss=\"sparse_categorical_crossentropy\", optimizer=\"sgd\", metrics=[\"accuracy\"])\n",
    "early_stopping=keras.callbacks.EarlyStopping(patience=2,restore_best_weights=True)"
   ]
  },
  {
   "cell_type": "code",
   "execution_count": 33,
   "metadata": {},
   "outputs": [
    {
     "name": "stdout",
     "output_type": "stream",
     "text": [
      "Train on 55000 samples, validate on 5000 samples\n",
      "Epoch 1/6\n",
      "55000/55000 [==============================] - 47s 847us/sample - loss: 0.8753 - accuracy: 0.7050 - val_loss: 0.5987 - val_accuracy: 0.7788\n",
      "Epoch 2/6\n",
      "55000/55000 [==============================] - 49s 889us/sample - loss: 0.5382 - accuracy: 0.8052 - val_loss: 0.5426 - val_accuracy: 0.8024\n",
      "Epoch 3/6\n",
      "55000/55000 [==============================] - 43s 782us/sample - loss: 0.4796 - accuracy: 0.8277 - val_loss: 0.5617 - val_accuracy: 0.8118\n",
      "Epoch 4/6\n",
      "55000/55000 [==============================] - 46s 840us/sample - loss: 0.4431 - accuracy: 0.8416 - val_loss: 0.4597 - val_accuracy: 0.8384\n",
      "Epoch 5/6\n",
      "55000/55000 [==============================] - 47s 860us/sample - loss: 0.4161 - accuracy: 0.8516 - val_loss: 0.4402 - val_accuracy: 0.8384\n",
      "Epoch 6/6\n",
      "55000/55000 [==============================] - 49s 889us/sample - loss: 0.3971 - accuracy: 0.8576 - val_loss: 0.4210 - val_accuracy: 0.8450\n"
     ]
    }
   ],
   "source": [
    "modelhistory=model.fit(x_train_,y_train_,epochs=6,validation_data=(x_valid,y_valid), batch_size=64, callbacks=[early_stopping])"
   ]
  },
  {
   "cell_type": "code",
   "execution_count": 43,
   "metadata": {},
   "outputs": [
    {
     "name": "stdout",
     "output_type": "stream",
     "text": [
      "10000/10000 [==============================] - 5s 521us/sample - loss: 0.4536 - accuracy: 0.8311\n",
      "(10000,)\n",
      "(10000, 28, 28, 1)\n"
     ]
    }
   ],
   "source": [
    "model.evaluate(x_test,y_test)\n",
    "print(y_test.shape)\n",
    "print(x_test_n.shape)"
   ]
  },
  {
   "cell_type": "code",
   "execution_count": 46,
   "metadata": {},
   "outputs": [
    {
     "data": {
      "text/plain": [
       "array([1, 6, 1, 4, 6, 5], dtype=int64)"
      ]
     },
     "execution_count": 46,
     "metadata": {},
     "output_type": "execute_result"
    }
   ],
   "source": [
    "x_new=x_test[3:9]\n",
    "y_pred=model.predict_classes(x_new)\n",
    "y_pred\n"
   ]
  },
  {
   "cell_type": "code",
   "execution_count": 47,
   "metadata": {},
   "outputs": [
    {
     "data": {
      "text/plain": [
       "array(['trousers', 'shirt', 'trousers', 'coat', 'shirt', 'sandal'],\n",
       "      dtype='<U8')"
      ]
     },
     "execution_count": 47,
     "metadata": {},
     "output_type": "execute_result"
    }
   ],
   "source": [
    "np.array(classes)[y_pred]"
   ]
  },
  {
   "cell_type": "markdown",
   "metadata": {},
   "source": [
    "# CNN : cat and dog (without transfer learning and data augmentation)"
   ]
  },
  {
   "cell_type": "code",
   "execution_count": 1,
   "metadata": {},
   "outputs": [],
   "source": [
    "import numpy as np\n",
    "import pandas as pd\n",
    "import matplotlib as mlp\n",
    "import matplotlib.pyplot as plt\n",
    "import os\n",
    "import tensorflow as tf\n",
    "from tensorflow import keras \n",
    "\n"
   ]
  },
  {
   "cell_type": "code",
   "execution_count": 2,
   "metadata": {},
   "outputs": [
    {
     "data": {
      "text/plain": [
       "'C:\\\\Users\\\\user\\\\Desktop\\\\deep learning dataset\\\\cats_and_dogs_small\\\\train'"
      ]
     },
     "execution_count": 2,
     "metadata": {},
     "output_type": "execute_result"
    }
   ],
   "source": [
    "train_data_dir= r\"C:\\Users\\user\\Desktop\\deep learning dataset\\cats_and_dogs_small\\train\"\n",
    "valid_data_dir= r\"C:\\Users\\user\\Desktop\\deep learning dataset\\cats_and_dogs_small\\validation\"\n",
    "test_data_dir= r\"C:\\Users\\user\\Desktop\\deep learning dataset\\cats_and_dogs_small\\test\"\n",
    "train_data_dir"
   ]
  },
  {
   "cell_type": "markdown",
   "metadata": {},
   "source": [
    "# This image is to be converted into the pixels form\n",
    "\n",
    "1. read the image\n",
    "2. Decode the image from jpg to rgb\n",
    "3. convert these into floating point tensors\n",
    "4. now convert the pixel values b/w (0,1)"
   ]
  },
  {
   "cell_type": "code",
   "execution_count": 3,
   "metadata": {},
   "outputs": [],
   "source": [
    "from tensorflow.keras.preprocessing.image import ImageDataGenerator"
   ]
  },
  {
   "cell_type": "code",
   "execution_count": 4,
   "metadata": {},
   "outputs": [
    {
     "name": "stdout",
     "output_type": "stream",
     "text": [
      "Found 2000 images belonging to 2 classes.\n",
      "Found 1000 images belonging to 2 classes.\n",
      "Found 1000 images belonging to 2 classes.\n"
     ]
    }
   ],
   "source": [
    "# generating batches of tensor image data\n",
    "train_datagen=ImageDataGenerator(rescale=1./255)\n",
    "valid_datagen=ImageDataGenerator(rescale=1./255)\n",
    "test_datagen=ImageDataGenerator(rescale=1./255)\n",
    "#other augametations can also be appplied like shear, height ,etc which \n",
    "#resolves the problem of overfitting\n",
    "\n",
    "train_gen = train_datagen.flow_from_directory(\n",
    "    train_data_dir,\n",
    "    target_size=(150,150),\n",
    "    batch_size=20,\n",
    "    class_mode=(\"binary\")\n",
    ")\n",
    "valid_gen = valid_datagen.flow_from_directory(\n",
    "    valid_data_dir,\n",
    "    target_size=(150,150),\n",
    "    batch_size=20,\n",
    "    class_mode=(\"binary\")\n",
    ")\n",
    "test_gen = test_datagen.flow_from_directory(\n",
    "    test_data_dir,\n",
    "    target_size=(150,150),\n",
    "    batch_size=20,\n",
    "    class_mode=(\"binary\")\n",
    ")\n",
    "#batch_size means data is trained or validated in the group of 20 data while training the data\n",
    "\n"
   ]
  },
  {
   "cell_type": "code",
   "execution_count": 5,
   "metadata": {},
   "outputs": [],
   "source": [
    "from tensorflow.keras import models\n",
    "from tensorflow.keras import layers"
   ]
  },
  {
   "cell_type": "code",
   "execution_count": 6,
   "metadata": {},
   "outputs": [
    {
     "name": "stdout",
     "output_type": "stream",
     "text": [
      "Model: \"sequential\"\n",
      "_________________________________________________________________\n",
      "Layer (type)                 Output Shape              Param #   \n",
      "=================================================================\n",
      "conv2d (Conv2D)              (None, 148, 148, 32)      896       \n",
      "_________________________________________________________________\n",
      "max_pooling2d (MaxPooling2D) (None, 74, 74, 32)        0         \n",
      "_________________________________________________________________\n",
      "conv2d_1 (Conv2D)            (None, 72, 72, 64)        18496     \n",
      "_________________________________________________________________\n",
      "max_pooling2d_1 (MaxPooling2 (None, 36, 36, 64)        0         \n",
      "_________________________________________________________________\n",
      "conv2d_2 (Conv2D)            (None, 34, 34, 128)       73856     \n",
      "_________________________________________________________________\n",
      "max_pooling2d_2 (MaxPooling2 (None, 17, 17, 128)       0         \n",
      "_________________________________________________________________\n",
      "conv2d_3 (Conv2D)            (None, 15, 15, 128)       147584    \n",
      "_________________________________________________________________\n",
      "max_pooling2d_3 (MaxPooling2 (None, 7, 7, 128)         0         \n",
      "_________________________________________________________________\n",
      "flatten (Flatten)            (None, 6272)              0         \n",
      "_________________________________________________________________\n",
      "dense (Dense)                (None, 512)               3211776   \n",
      "_________________________________________________________________\n",
      "dense_1 (Dense)              (None, 1)                 513       \n",
      "=================================================================\n",
      "Total params: 3,453,121\n",
      "Trainable params: 3,453,121\n",
      "Non-trainable params: 0\n",
      "_________________________________________________________________\n"
     ]
    }
   ],
   "source": [
    "model=models.Sequential()\n",
    "model.add(layers.Conv2D(32, (3,3), activation=\"relu\", input_shape=(150,150,3)))\n",
    "model.add(layers.MaxPooling2D(2,2))\n",
    "\n",
    "model.add(layers.Conv2D(64, (3,3), activation=\"relu\"))\n",
    "model.add(layers.MaxPooling2D(2,2))\n",
    "\n",
    "model.add(layers.Conv2D(128, (3,3), activation=\"relu\"))\n",
    "model.add(layers.MaxPooling2D(2,2))\n",
    "\n",
    "model.add(layers.Conv2D(128, (3,3), activation=\"relu\"))\n",
    "model.add(layers.MaxPooling2D(2,2))\n",
    "\n",
    "model.add(layers.Flatten())\n",
    "model.add(layers.Dense(512,activation=\"relu\"))\n",
    "model.add(layers.Dense(1,activation=\"sigmoid\"))\n",
    "model.summary()\n"
   ]
  },
  {
   "cell_type": "code",
   "execution_count": 9,
   "metadata": {},
   "outputs": [],
   "source": [
    "from tensorflow.keras import optimizers\n",
    "model.compile(loss=\"binary_crossentropy\", optimizer=optimizers.RMSprop(lr=1e-4), metrics=[\"accuracy\"])\n"
   ]
  },
  {
   "cell_type": "code",
   "execution_count": 10,
   "metadata": {
    "collapsed": true
   },
   "outputs": [
    {
     "name": "stdout",
     "output_type": "stream",
     "text": [
      "WARNING:tensorflow:sample_weight modes were coerced from\n",
      "  ...\n",
      "    to  \n",
      "  ['...']\n",
      "WARNING:tensorflow:sample_weight modes were coerced from\n",
      "  ...\n",
      "    to  \n",
      "  ['...']\n",
      "Train for 100 steps, validate for 50 steps\n",
      "Epoch 1/20\n",
      "100/100 [==============================] - 122s 1s/step - loss: 0.6728 - accuracy: 0.5855 - val_loss: 0.6864 - val_accuracy: 0.5500\n",
      "Epoch 2/20\n",
      "100/100 [==============================] - 90s 899ms/step - loss: 0.6306 - accuracy: 0.6505 - val_loss: 0.6431 - val_accuracy: 0.6190\n",
      "Epoch 3/20\n",
      "100/100 [==============================] - 80s 799ms/step - loss: 0.5808 - accuracy: 0.6930 - val_loss: 0.5993 - val_accuracy: 0.6800\n",
      "Epoch 4/20\n",
      "100/100 [==============================] - 76s 761ms/step - loss: 0.5507 - accuracy: 0.7175 - val_loss: 0.6008 - val_accuracy: 0.6680\n",
      "Epoch 5/20\n",
      "100/100 [==============================] - 79s 788ms/step - loss: 0.5188 - accuracy: 0.7460 - val_loss: 0.6373 - val_accuracy: 0.6490\n",
      "Epoch 6/20\n",
      "100/100 [==============================] - 77s 768ms/step - loss: 0.4960 - accuracy: 0.7535 - val_loss: 0.5790 - val_accuracy: 0.6920\n",
      "Epoch 7/20\n",
      "100/100 [==============================] - 76s 756ms/step - loss: 0.4743 - accuracy: 0.7790 - val_loss: 0.5701 - val_accuracy: 0.6960\n",
      "Epoch 8/20\n",
      "100/100 [==============================] - 76s 763ms/step - loss: 0.4446 - accuracy: 0.7855 - val_loss: 0.5782 - val_accuracy: 0.6930\n",
      "Epoch 9/20\n",
      "100/100 [==============================] - 77s 766ms/step - loss: 0.4262 - accuracy: 0.8015 - val_loss: 0.5562 - val_accuracy: 0.7130\n",
      "Epoch 10/20\n",
      "100/100 [==============================] - 88s 879ms/step - loss: 0.3997 - accuracy: 0.8255 - val_loss: 0.5778 - val_accuracy: 0.7040\n",
      "Epoch 11/20\n",
      "100/100 [==============================] - 77s 768ms/step - loss: 0.3728 - accuracy: 0.8320 - val_loss: 0.6250 - val_accuracy: 0.6920\n",
      "Epoch 12/20\n",
      "100/100 [==============================] - 80s 799ms/step - loss: 0.3445 - accuracy: 0.8550 - val_loss: 0.6291 - val_accuracy: 0.6990\n",
      "Epoch 13/20\n",
      "100/100 [==============================] - 76s 756ms/step - loss: 0.3231 - accuracy: 0.8700 - val_loss: 0.5976 - val_accuracy: 0.7200\n",
      "Epoch 14/20\n",
      "100/100 [==============================] - 75s 750ms/step - loss: 0.3055 - accuracy: 0.8730 - val_loss: 0.6281 - val_accuracy: 0.7120\n",
      "Epoch 15/20\n",
      "100/100 [==============================] - 76s 758ms/step - loss: 0.2712 - accuracy: 0.8930 - val_loss: 0.6382 - val_accuracy: 0.7100\n",
      "Epoch 16/20\n",
      "100/100 [==============================] - 88s 881ms/step - loss: 0.2473 - accuracy: 0.9055 - val_loss: 0.6150 - val_accuracy: 0.7260\n",
      "Epoch 17/20\n",
      "100/100 [==============================] - 76s 762ms/step - loss: 0.2271 - accuracy: 0.9150 - val_loss: 0.7179 - val_accuracy: 0.7120\n",
      "Epoch 18/20\n",
      "100/100 [==============================] - 79s 794ms/step - loss: 0.2035 - accuracy: 0.9260 - val_loss: 0.6619 - val_accuracy: 0.7100\n",
      "Epoch 19/20\n",
      "100/100 [==============================] - 78s 778ms/step - loss: 0.1740 - accuracy: 0.9360 - val_loss: 1.0051 - val_accuracy: 0.6920\n",
      "Epoch 20/20\n",
      "100/100 [==============================] - 78s 779ms/step - loss: 0.1580 - accuracy: 0.9440 - val_loss: 0.7386 - val_accuracy: 0.7110\n"
     ]
    }
   ],
   "source": [
    "history=model.fit_generator(train_gen, steps_per_epoch=100,\n",
    "                            epochs=20, validation_data=valid_gen,\n",
    "                            validation_steps=50) #steps per epoch means  no. of training data/batch_size"
   ]
  },
  {
   "cell_type": "code",
   "execution_count": 12,
   "metadata": {},
   "outputs": [
    {
     "name": "stdout",
     "output_type": "stream",
     "text": [
      "WARNING:tensorflow:sample_weight modes were coerced from\n",
      "  ...\n",
      "    to  \n",
      "  ['...']\n",
      "50/50 [==============================] - 10s 198ms/step - loss: 0.6901 - accuracy: 0.7310\n"
     ]
    },
    {
     "data": {
      "text/plain": [
       "[0.6900699138641357, 0.731]"
      ]
     },
     "execution_count": 12,
     "metadata": {},
     "output_type": "execute_result"
    }
   ],
   "source": [
    "model.evaluate(test_gen,steps=50)"
   ]
  },
  {
   "cell_type": "code",
   "execution_count": 13,
   "metadata": {},
   "outputs": [
    {
     "data": {
      "image/png": "[encoded data removed]",
      "text/plain": [
       "<Figure size 576x360 with 1 Axes>"
      ]
     },
     "metadata": {
      "needs_background": "light"
     },
     "output_type": "display_data"
    }
   ],
   "source": [
    "pd.DataFrame(history.history).plot(figsize=(8,5))\n",
    "plt.grid(True)\n",
    "plt.gca().set_ylim(0,1)\n",
    "plt.show()"
   ]
  },
  {
   "cell_type": "markdown",
   "metadata": {},
   "source": [
    "# Transfer Learning :VGG16 (a pretrained model to be imported) with data augmentation."
   ]
  },
  {
   "cell_type": "code",
   "execution_count": 39,
   "metadata": {},
   "outputs": [
    {
     "name": "stdout",
     "output_type": "stream",
     "text": [
      "Found 2000 images belonging to 2 classes.\n",
      "Found 1000 images belonging to 2 classes.\n",
      "Found 1000 images belonging to 2 classes.\n"
     ]
    }
   ],
   "source": [
    "train_datagen=ImageDataGenerator(\n",
    "    rescale=1./255,\n",
    "    rotation_range=40,\n",
    "    width_shift_range=0.2,\n",
    "    height_shift_range=0.2,\n",
    "    shear_range=0.2,\n",
    "    zoom_range=0.2,\n",
    "    horizontal_flip=True)\n",
    "\n",
    "valid_datagen=ImageDataGenerator(rescale=1./255)\n",
    "test_datagen=ImageDataGenerator(rescale=1./255)\n",
    "\n",
    "\n",
    "train_gen = train_datagen.flow_from_directory(\n",
    "    train_data_dir,\n",
    "    target_size=(150,150),\n",
    "    batch_size=20,\n",
    "    class_mode=(\"binary\")\n",
    ")\n",
    "valid_gen = valid_datagen.flow_from_directory(\n",
    "    valid_data_dir,\n",
    "    target_size=(150,150),\n",
    "    batch_size=20,\n",
    "    class_mode=(\"binary\")\n",
    ")\n",
    "test_gen = test_datagen.flow_from_directory(\n",
    "    test_data_dir,\n",
    "    target_size=(150,150),\n",
    "    batch_size=20,\n",
    "    class_mode=(\"binary\")\n",
    ")"
   ]
  },
  {
   "cell_type": "code",
   "execution_count": 40,
   "metadata": {},
   "outputs": [],
   "source": [
    "from tensorflow.keras.applications import VGG16\n",
    "\n",
    "conv_base=VGG16(weights=\"imagenet\", include_top=False, \n",
    "                input_shape=(150,150,3))"
   ]
  },
  {
   "cell_type": "code",
   "execution_count": 41,
   "metadata": {},
   "outputs": [
    {
     "name": "stdout",
     "output_type": "stream",
     "text": [
      "Model: \"vgg16\"\n",
      "_________________________________________________________________\n",
      "Layer (type)                 Output Shape              Param #   \n",
      "=================================================================\n",
      "input_3 (InputLayer)         [(None, 150, 150, 3)]     0         \n",
      "_________________________________________________________________\n",
      "block1_conv1 (Conv2D)        (None, 150, 150, 64)      1792      \n",
      "_________________________________________________________________\n",
      "block1_conv2 (Conv2D)        (None, 150, 150, 64)      36928     \n",
      "_________________________________________________________________\n",
      "block1_pool (MaxPooling2D)   (None, 75, 75, 64)        0         \n",
      "_________________________________________________________________\n",
      "block2_conv1 (Conv2D)        (None, 75, 75, 128)       73856     \n",
      "_________________________________________________________________\n",
      "block2_conv2 (Conv2D)        (None, 75, 75, 128)       147584    \n",
      "_________________________________________________________________\n",
      "block2_pool (MaxPooling2D)   (None, 37, 37, 128)       0         \n",
      "_________________________________________________________________\n",
      "block3_conv1 (Conv2D)        (None, 37, 37, 256)       295168    \n",
      "_________________________________________________________________\n",
      "block3_conv2 (Conv2D)        (None, 37, 37, 256)       590080    \n",
      "_________________________________________________________________\n",
      "block3_conv3 (Conv2D)        (None, 37, 37, 256)       590080    \n",
      "_________________________________________________________________\n",
      "block3_pool (MaxPooling2D)   (None, 18, 18, 256)       0         \n",
      "_________________________________________________________________\n",
      "block4_conv1 (Conv2D)        (None, 18, 18, 512)       1180160   \n",
      "_________________________________________________________________\n",
      "block4_conv2 (Conv2D)        (None, 18, 18, 512)       2359808   \n",
      "_________________________________________________________________\n",
      "block4_conv3 (Conv2D)        (None, 18, 18, 512)       2359808   \n",
      "_________________________________________________________________\n",
      "block4_pool (MaxPooling2D)   (None, 9, 9, 512)         0         \n",
      "_________________________________________________________________\n",
      "block5_conv1 (Conv2D)        (None, 9, 9, 512)         2359808   \n",
      "_________________________________________________________________\n",
      "block5_conv2 (Conv2D)        (None, 9, 9, 512)         2359808   \n",
      "_________________________________________________________________\n",
      "block5_conv3 (Conv2D)        (None, 9, 9, 512)         2359808   \n",
      "_________________________________________________________________\n",
      "block5_pool (MaxPooling2D)   (None, 4, 4, 512)         0         \n",
      "=================================================================\n",
      "Total params: 14,714,688\n",
      "Trainable params: 14,714,688\n",
      "Non-trainable params: 0\n",
      "_________________________________________________________________\n"
     ]
    }
   ],
   "source": [
    "conv_base.summary()"
   ]
  },
  {
   "cell_type": "code",
   "execution_count": 42,
   "metadata": {},
   "outputs": [],
   "source": [
    "from tensorflow.keras import layers\n",
    "from tensorflow.keras import models"
   ]
  },
  {
   "cell_type": "code",
   "execution_count": 43,
   "metadata": {},
   "outputs": [
    {
     "name": "stdout",
     "output_type": "stream",
     "text": [
      "Model: \"sequential_3\"\n",
      "_________________________________________________________________\n",
      "Layer (type)                 Output Shape              Param #   \n",
      "=================================================================\n",
      "vgg16 (Model)                (None, 4, 4, 512)         14714688  \n",
      "_________________________________________________________________\n",
      "flatten_3 (Flatten)          (None, 8192)              0         \n",
      "_________________________________________________________________\n",
      "dropout_1 (Dropout)          (None, 8192)              0         \n",
      "_________________________________________________________________\n",
      "dense_6 (Dense)              (None, 256)               2097408   \n",
      "_________________________________________________________________\n",
      "dense_7 (Dense)              (None, 1)                 257       \n",
      "=================================================================\n",
      "Total params: 16,812,353\n",
      "Trainable params: 16,812,353\n",
      "Non-trainable params: 0\n",
      "_________________________________________________________________\n"
     ]
    }
   ],
   "source": [
    "model=models.Sequential()\n",
    "model.add(conv_base)\n",
    "model.add(layers.Flatten())\n",
    "model.add(layers.Dropout(0.5))\n",
    "model.add(layers.Dense(256,activation=\"relu\"))\n",
    "model.add(layers.Dense(1,activation=\"sigmoid\"))\n",
    "model.summary()"
   ]
  },
  {
   "cell_type": "code",
   "execution_count": 47,
   "metadata": {},
   "outputs": [],
   "source": [
    "model.compile(loss=\"binary_crossentropy\", metrics=[\"acc\"],\n",
    "              optimizer=keras.optimizers.RMSprop(lr=2e-5))"
   ]
  },
  {
   "cell_type": "code",
   "execution_count": 48,
   "metadata": {},
   "outputs": [],
   "source": [
    "checkpoint=keras.callbacks.ModelCheckpoint(\"Model.h5\",save_best_only=True)"
   ]
  },
  {
   "cell_type": "code",
   "execution_count": 49,
   "metadata": {},
   "outputs": [
    {
     "name": "stdout",
     "output_type": "stream",
     "text": [
      "WARNING:tensorflow:sample_weight modes were coerced from\n",
      "  ...\n",
      "    to  \n",
      "  ['...']\n",
      "WARNING:tensorflow:sample_weight modes were coerced from\n",
      "  ...\n",
      "    to  \n",
      "  ['...']\n",
      "Train for 100 steps, validate for 50 steps\n",
      "Epoch 1/30\n",
      "100/100 [==============================] - 1218s 12s/step - loss: 0.2306 - acc: 0.9160 - val_loss: 0.1273 - val_acc: 0.9540\n",
      "Epoch 2/30\n",
      "100/100 [==============================] - 1125s 11s/step - loss: 0.1853 - acc: 0.9240 - val_loss: 0.1192 - val_acc: 0.9590\n",
      "Epoch 3/30\n",
      "100/100 [==============================] - 1113s 11s/step - loss: 0.1568 - acc: 0.9375 - val_loss: 0.1372 - val_acc: 0.9610\n",
      "Epoch 4/30\n",
      "100/100 [==============================] - 1134s 11s/step - loss: 0.1460 - acc: 0.9395 - val_loss: 0.1710 - val_acc: 0.9260\n",
      "Epoch 5/30\n",
      "100/100 [==============================] - 1158s 12s/step - loss: 0.1146 - acc: 0.9500 - val_loss: 0.1012 - val_acc: 0.9630\n",
      "Epoch 6/30\n",
      "100/100 [==============================] - 27560s 276s/step - loss: 0.1079 - acc: 0.9520 - val_loss: 0.1274 - val_acc: 0.9680\n",
      "Epoch 7/30\n",
      "100/100 [==============================] - 2309s 23s/step - loss: 0.1002 - acc: 0.9620 - val_loss: 0.1028 - val_acc: 0.9630\n",
      "Epoch 8/30\n",
      "100/100 [==============================] - 4298s 43s/step - loss: 0.0919 - acc: 0.9665 - val_loss: 0.1159 - val_acc: 0.9640\n",
      "Epoch 9/30\n",
      "100/100 [==============================] - 1033s 10s/step - loss: 0.0995 - acc: 0.9680 - val_loss: 0.0789 - val_acc: 0.9700\n",
      "Epoch 10/30\n",
      "100/100 [==============================] - 2044s 20s/step - loss: 0.0694 - acc: 0.9720 - val_loss: 0.0922 - val_acc: 0.9720\n",
      "Epoch 11/30\n",
      "100/100 [==============================] - 1040s 10s/step - loss: 0.0766 - acc: 0.9720 - val_loss: 0.1022 - val_acc: 0.9660\n",
      "Epoch 12/30\n",
      "100/100 [==============================] - 1037s 10s/step - loss: 0.0678 - acc: 0.9725 - val_loss: 0.1187 - val_acc: 0.9730\n",
      "Epoch 13/30\n",
      "100/100 [==============================] - 1091s 11s/step - loss: 0.0700 - acc: 0.9800 - val_loss: 0.2108 - val_acc: 0.9460\n",
      "Epoch 14/30\n",
      "100/100 [==============================] - 1035s 10s/step - loss: 0.0612 - acc: 0.9785 - val_loss: 0.1438 - val_acc: 0.9540\n",
      "Epoch 15/30\n",
      "100/100 [==============================] - 2205s 22s/step - loss: 0.0526 - acc: 0.9785 - val_loss: 0.5011 - val_acc: 0.9080\n",
      "Epoch 16/30\n",
      "100/100 [==============================] - 5159s 52s/step - loss: 0.0565 - acc: 0.9825 - val_loss: 0.1591 - val_acc: 0.9680\n",
      "Epoch 17/30\n",
      "100/100 [==============================] - 11645s 116s/step - loss: 0.0712 - acc: 0.9785 - val_loss: 0.0836 - val_acc: 0.9750\n",
      "Epoch 18/30\n",
      "100/100 [==============================] - 1044s 10s/step - loss: 0.0549 - acc: 0.9800 - val_loss: 0.1634 - val_acc: 0.9620\n",
      "Epoch 19/30\n",
      "100/100 [==============================] - 1053s 11s/step - loss: 0.0426 - acc: 0.9850 - val_loss: 0.1494 - val_acc: 0.9670\n",
      "Epoch 20/30\n",
      "100/100 [==============================] - 1073s 11s/step - loss: 0.0765 - acc: 0.9770 - val_loss: 0.1094 - val_acc: 0.9650\n",
      "Epoch 21/30\n",
      "100/100 [==============================] - 1088s 11s/step - loss: 0.0503 - acc: 0.9840 - val_loss: 0.1019 - val_acc: 0.9730\n",
      "Epoch 22/30\n",
      "100/100 [==============================] - 1061s 11s/step - loss: 0.0386 - acc: 0.9855 - val_loss: 0.8028 - val_acc: 0.9070\n",
      "Epoch 23/30\n",
      "100/100 [==============================] - 1098s 11s/step - loss: 0.0466 - acc: 0.9845 - val_loss: 0.2106 - val_acc: 0.9540\n",
      "Epoch 24/30\n",
      "100/100 [==============================] - 1090s 11s/step - loss: 0.0435 - acc: 0.9850 - val_loss: 0.0908 - val_acc: 0.9770\n",
      "Epoch 25/30\n",
      "100/100 [==============================] - 1039s 10s/step - loss: 0.0560 - acc: 0.9835 - val_loss: 0.1094 - val_acc: 0.9770\n",
      "Epoch 26/30\n",
      "100/100 [==============================] - 1068s 11s/step - loss: 0.0370 - acc: 0.9845 - val_loss: 0.1267 - val_acc: 0.9740\n",
      "Epoch 27/30\n",
      "100/100 [==============================] - 1026s 10s/step - loss: 0.0425 - acc: 0.9860 - val_loss: 0.1711 - val_acc: 0.9740\n",
      "Epoch 28/30\n",
      "100/100 [==============================] - 4274s 43s/step - loss: 0.0372 - acc: 0.9875 - val_loss: 0.4800 - val_acc: 0.9430\n",
      "Epoch 29/30\n",
      "100/100 [==============================] - 1550s 15s/step - loss: 0.0424 - acc: 0.9860 - val_loss: 0.1662 - val_acc: 0.9680\n",
      "Epoch 30/30\n",
      "100/100 [==============================] - 1070s 11s/step - loss: 0.0578 - acc: 0.9865 - val_loss: 0.1334 - val_acc: 0.9590\n"
     ]
    }
   ],
   "source": [
    "history=model.fit_generator(train_gen, validation_data=(valid_gen),\n",
    "                            epochs=30, steps_per_epoch=100, validation_steps=50,\n",
    "                            callbacks=[checkpoint])\n"
   ]
  },
  {
   "cell_type": "code",
   "execution_count": 50,
   "metadata": {},
   "outputs": [
    {
     "name": "stdout",
     "output_type": "stream",
     "text": [
      "WARNING:tensorflow:sample_weight modes were coerced from\n",
      "  ...\n",
      "    to  \n",
      "  ['...']\n"
     ]
    },
    {
     "data": {
      "text/plain": [
       "[0.1498353534085618, 0.972]"
      ]
     },
     "execution_count": 50,
     "metadata": {},
     "output_type": "execute_result"
    }
   ],
   "source": [
    "model.evaluate_generator(test_gen,steps=50)"
   ]
  },
  {
   "cell_type": "code",
   "execution_count": 51,
   "metadata": {},
   "outputs": [
    {
     "data": {
      "image/png": "[encoded data removed]",
      "text/plain": [
       "<Figure size 576x360 with 1 Axes>"
      ]
     },
     "metadata": {
      "needs_background": "light"
     },
     "output_type": "display_data"
    }
   ],
   "source": [
    "pd.DataFrame(history.history).plot(figsize=(8,5))\n",
    "plt.grid(True)\n",
    "plt.gca().set_ylim(0,1)\n",
    "plt.show()"
   ]
  },
  {
   "cell_type": "code",
   "execution_count": null,
   "metadata": {},
   "outputs": [],
   "source": [
    "del model\n",
    "keras.backend.clear_session()"
   ]
  },
  {
   "cell_type": "code",
   "execution_count": 60,
   "metadata": {},
   "outputs": [],
   "source": [
    "model=keras.models.load_model(\"Model.h5\")"
   ]
  },
  {
   "cell_type": "code",
   "execution_count": null,
   "metadata": {},
   "outputs": [],
   "source": []
  },
  {
   "cell_type": "code",
   "execution_count": null,
   "metadata": {},
   "outputs": [],
   "source": []
  },
  {
   "cell_type": "code",
   "execution_count": null,
   "metadata": {},
   "outputs": [],
   "source": []
  }
 ],
 "metadata": {
  "kernelspec": {
   "display_name": "Python 3",
   "language": "python",
   "name": "python3"
  },
  "language_info": {
   "codemirror_mode": {
    "name": "ipython",
    "version": 3
   },
   "file_extension": ".py",
   "mimetype": "text/x-python",
   "name": "python",
   "nbconvert_exporter": "python",
   "pygments_lexer": "ipython3",
   "version": "3.7.7"
  }
 },
 "nbformat": 4,
 "nbformat_minor": 2
}
